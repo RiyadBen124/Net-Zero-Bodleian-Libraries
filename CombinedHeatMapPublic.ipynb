{
 "cells": [
  {
   "cell_type": "code",
   "execution_count": 1,
   "metadata": {},
   "outputs": [],
   "source": [
    "#note the example data may be formatted differently from the actual data and might not work \n",
    "#unless data of the correct format is used.\n",
    "\n",
    "#ExampleDataC can be found at\n",
    "#https://www.sciencedirect.com/science/article/pii/S0360544216311744?via%3Dihub\n",
    " \n",
    "#this script creates a combined heatmap of the OldBod and RadCam Electricity Data over a year\n",
    "\n",
    "import numpy as np\n",
    "import pandas as pd\n",
    "import matplotlib.pyplot as plt\n",
    "import matplotlib.cm as cm\n",
    "import datetime\n",
    "import seaborn as sns"
   ]
  },
  {
   "cell_type": "code",
   "execution_count": 2,
   "metadata": {},
   "outputs": [],
   "source": [
    "\n",
    "#import the OldBod dataframe\n",
    "dfOB = pd.read_csv(\"C:\\\\Users\\\\Michael\\\\OneDrive - Nexus365\\\\LEO\\\\3YP Coding\\\\Electricity Modelling\\\\ExampleDataC.csv\",)\n",
    "dfOB['Date'] = pd.to_datetime(dfOB['Date'], format='%d/%m/%Y')\n",
    "\n",
    "\n",
    "\n",
    "#import the RadCam dataframe\n",
    "dfRC = pd.read_csv(\"C:\\\\Users\\\\Michael\\\\OneDrive - Nexus365\\\\LEO\\\\3YP Coding\\\\Electricity Modelling\\\\ExampleDataC.csv\",)\n",
    "dfRC['Date'] = pd.to_datetime(dfRC['Date'], format='%d/%m/%Y')\n",
    "\n",
    "\n",
    "\n",
    "#drop the date column temporarily so we can add the two dataframes together\n",
    "Dates = dfOB['Date']\n",
    "dfRC = dfRC.drop('Date',  axis=1)\n",
    "dfOB = dfOB.drop('Date',  axis=1)\n",
    "\n",
    "\n",
    "#add them together\n",
    "df = dfRC.add(dfOB, fill_value=0)\n",
    "\n",
    "\n",
    "#reinsert the dates\n",
    "df.insert(0, 'Date', Dates)\n",
    "df = df[df['Date'].dt.year == 2017] "
   ]
  },
  {
   "cell_type": "code",
   "execution_count": 3,
   "metadata": {},
   "outputs": [],
   "source": [
    "#insert relevant columns to compute a heatmap from\n",
    "\n",
    "df['Month'] = df['Date'].dt.month_name()\n",
    "df['Day'] = df['Date'].dt.day_name()\n",
    "df['Date']=df['Date'].dt.date\n",
    "df['Daily Sum'] = df.sum(axis=1)\n",
    "\n",
    "#sort the dataframe columns in a desired order\n",
    "df = df[['Month','Day','Daily Sum']]"
   ]
  },
  {
   "cell_type": "code",
   "execution_count": 4,
   "metadata": {},
   "outputs": [],
   "source": [
    "#formatting the dataframe so that it can be plotted into a heatmap\n",
    "\n",
    "df1 = df.groupby(['Month', 'Day'],sort=False).agg(['mean'])\n",
    "df1.columns=df1.columns.droplevel(0)\n",
    "df1.reset_index(inplace=True)\n",
    "heatmap_data = pd.pivot_table(df1, values='mean', index=['Month'], columns='Day')"
   ]
  },
  {
   "cell_type": "code",
   "execution_count": 5,
   "metadata": {},
   "outputs": [],
   "source": [
    "cols = list(heatmap_data)\n",
    "cols.insert(0, cols.pop(cols.index('Monday')))\n",
    "cols.insert(1, cols.pop(cols.index('Tuesday')))\n",
    "cols.insert(2, cols.pop(cols.index('Wednesday')))\n",
    "cols.insert(3, cols.pop(cols.index('Thursday')))\n",
    "cols.insert(4, cols.pop(cols.index('Friday')))\n",
    "cols.insert(5, cols.pop(cols.index('Saturday')))\n",
    "heatmap_data = heatmap_data.loc[:, cols]\n",
    "\n",
    "\n",
    "Months=df1.Month.unique().tolist()\n",
    "heatmap_data=heatmap_data.loc[Months]"
   ]
  },
  {
   "cell_type": "code",
   "execution_count": 6,
   "metadata": {},
   "outputs": [
    {
     "data": {
      "text/plain": [
       "Text(0.5, 1.0, ' Combined Electricity usage (kWh) 2017')"
      ]
     },
     "execution_count": 6,
     "metadata": {},
     "output_type": "execute_result"
    },
    {
     "data": {
      "image/png": "[encoded data removed]",
      "text/plain": [
       "<Figure size 432x288 with 2 Axes>"
      ]
     },
     "metadata": {
      "needs_background": "light"
     },
     "output_type": "display_data"
    }
   ],
   "source": [
    "\n",
    "sns.heatmap(heatmap_data)\n",
    "plt.xlabel(\"Day\", size=14)\n",
    "plt.ylabel(\"Month\", size=14)\n",
    "plt.title(\" Combined Electricity usage (kWh) 2017\", size=14)\n"
   ]
  },
  {
   "cell_type": "code",
   "execution_count": null,
   "metadata": {},
   "outputs": [],
   "source": []
  },
  {
   "cell_type": "code",
   "execution_count": null,
   "metadata": {},
   "outputs": [],
   "source": []
  }
 ],
 "metadata": {
  "kernelspec": {
   "display_name": "Python 3",
   "language": "python",
   "name": "python3"
  },
  "language_info": {
   "codemirror_mode": {
    "name": "ipython",
    "version": 3
   },
   "file_extension": ".py",
   "mimetype": "text/x-python",
   "name": "python",
   "nbconvert_exporter": "python",
   "pygments_lexer": "ipython3",
   "version": "3.8.5"
  }
 },
 "nbformat": 4,
 "nbformat_minor": 4
}
