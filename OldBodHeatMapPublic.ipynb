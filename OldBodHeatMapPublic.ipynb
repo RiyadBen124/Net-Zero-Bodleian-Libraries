{
 "cells": [
  {
   "cell_type": "code",
   "execution_count": 7,
   "metadata": {},
   "outputs": [],
   "source": [
    "#note the example data may be formatted differently from the actual data and might not work \n",
    "#unless data of the correct format is used.\n",
    "\n",
    "#ExampleDataC can be found at\n",
    "#https://www.sciencedirect.com/science/article/pii/S0360544216311744?via%3Dihub\n",
    "\n",
    "#this script plots a heatmap of the OldBod's electricity data over a year\n",
    "\n",
    "import numpy as np\n",
    "import pandas as pd\n",
    "import matplotlib.pyplot as plt\n",
    "import matplotlib.cm as cm\n",
    "import datetime\n",
    "import seaborn as sns"
   ]
  },
  {
   "cell_type": "code",
   "execution_count": 8,
   "metadata": {},
   "outputs": [],
   "source": [
    "#import the relevant dataframe and format for later use\n",
    "\n",
    "df = pd.read_csv(\"C:\\\\Users\\\\Michael\\\\OneDrive - Nexus365\\\\LEO\\\\3YP Coding\\\\Electricity Modelling\\\\ExampleDataC.csv\",)\n",
    "df['Date'] = pd.to_datetime(df['Date'], format='%d/%m/%Y')\n",
    "df = df.sort_values(by=\"Date\")\n",
    "\n",
    "#extract 2018 data from dataframe\n",
    "df = df[df['Date'].dt.year == 2018] "
   ]
  },
  {
   "cell_type": "code",
   "execution_count": 9,
   "metadata": {},
   "outputs": [],
   "source": [
    "#create columns for month, day, and daily sum\n",
    "\n",
    "df['Month'] = df['Date'].dt.month_name()\n",
    "df['Day'] = df['Date'].dt.day_name()\n",
    "df['Date']=df['Date'].dt.date\n",
    "df['Daily Sum'] = df.sum(axis=1)\n",
    "df = df[['Month','Day','Daily Sum']]"
   ]
  },
  {
   "cell_type": "code",
   "execution_count": 10,
   "metadata": {},
   "outputs": [],
   "source": [
    "#format for heatmap plotting\n",
    "\n",
    "df1 = df.groupby(['Month', 'Day'],sort=False).agg(['mean'])\n",
    "df1.columns=df1.columns.droplevel(0)\n",
    "df1.reset_index(inplace=True)\n",
    "heatmap_data = pd.pivot_table(df1, values='mean', index=['Month'], columns='Day')"
   ]
  },
  {
   "cell_type": "code",
   "execution_count": 11,
   "metadata": {},
   "outputs": [],
   "source": [
    "#create heatmap x axis\n",
    "cols = list(heatmap_data)\n",
    "cols.insert(0, cols.pop(cols.index('Monday')))\n",
    "cols.insert(1, cols.pop(cols.index('Tuesday')))\n",
    "cols.insert(2, cols.pop(cols.index('Wednesday')))\n",
    "cols.insert(3, cols.pop(cols.index('Thursday')))\n",
    "cols.insert(4, cols.pop(cols.index('Friday')))\n",
    "cols.insert(5, cols.pop(cols.index('Saturday')))\n",
    "heatmap_data = heatmap_data.loc[:, cols]\n",
    "\n",
    "#heatmap y axis\n",
    "Months=df1.Month.unique().tolist()\n",
    "heatmap_data=heatmap_data.loc[Months]"
   ]
  },
  {
   "cell_type": "code",
   "execution_count": 1,
   "metadata": {},
   "outputs": [
    {
     "ename": "NameError",
     "evalue": "name 'sns' is not defined",
     "output_type": "error",
     "traceback": [
      "\u001b[1;31m---------------------------------------------------------------------------\u001b[0m",
      "\u001b[1;31mNameError\u001b[0m                                 Traceback (most recent call last)",
      "\u001b[1;32m<ipython-input-1-c477085066ad>\u001b[0m in \u001b[0;36m<module>\u001b[1;34m\u001b[0m\n\u001b[0;32m      1\u001b[0m \u001b[1;31m#plot the heatmap\u001b[0m\u001b[1;33m\u001b[0m\u001b[1;33m\u001b[0m\u001b[1;33m\u001b[0m\u001b[0m\n\u001b[1;32m----> 2\u001b[1;33m \u001b[0msns\u001b[0m\u001b[1;33m.\u001b[0m\u001b[0mheatmap\u001b[0m\u001b[1;33m(\u001b[0m\u001b[0mheatmap_data\u001b[0m\u001b[1;33m,\u001b[0m \u001b[0mvmin\u001b[0m \u001b[1;33m=\u001b[0m \u001b[1;36m300\u001b[0m\u001b[1;33m,\u001b[0m\u001b[0mvmax\u001b[0m \u001b[1;33m=\u001b[0m \u001b[1;36m1200\u001b[0m\u001b[1;33m)\u001b[0m\u001b[1;33m\u001b[0m\u001b[1;33m\u001b[0m\u001b[0m\n\u001b[0m\u001b[0;32m      3\u001b[0m \u001b[0mplt\u001b[0m\u001b[1;33m.\u001b[0m\u001b[0mxlabel\u001b[0m\u001b[1;33m(\u001b[0m\u001b[1;34m\"Day\"\u001b[0m\u001b[1;33m,\u001b[0m \u001b[0msize\u001b[0m\u001b[1;33m=\u001b[0m\u001b[1;36m14\u001b[0m\u001b[1;33m)\u001b[0m\u001b[1;33m\u001b[0m\u001b[1;33m\u001b[0m\u001b[0m\n\u001b[0;32m      4\u001b[0m \u001b[0mplt\u001b[0m\u001b[1;33m.\u001b[0m\u001b[0mylabel\u001b[0m\u001b[1;33m(\u001b[0m\u001b[1;34m\"Month\"\u001b[0m\u001b[1;33m,\u001b[0m \u001b[0msize\u001b[0m\u001b[1;33m=\u001b[0m\u001b[1;36m14\u001b[0m\u001b[1;33m)\u001b[0m\u001b[1;33m\u001b[0m\u001b[1;33m\u001b[0m\u001b[0m\n\u001b[0;32m      5\u001b[0m \u001b[0mplt\u001b[0m\u001b[1;33m.\u001b[0m\u001b[0mtitle\u001b[0m\u001b[1;33m(\u001b[0m\u001b[1;34m\" OldBod Mean Electricity usage (kWh) 2018\"\u001b[0m\u001b[1;33m,\u001b[0m \u001b[0msize\u001b[0m\u001b[1;33m=\u001b[0m\u001b[1;36m14\u001b[0m\u001b[1;33m)\u001b[0m\u001b[1;33m\u001b[0m\u001b[1;33m\u001b[0m\u001b[0m\n",
      "\u001b[1;31mNameError\u001b[0m: name 'sns' is not defined"
     ]
    }
   ],
   "source": [
    "#plot the heatmap\n",
    "sns.heatmap(heatmap_data, vmin = 300,vmax = 1200)\n",
    "plt.xlabel(\"Day\", size=14)\n",
    "plt.ylabel(\"Month\", size=14)\n",
    "plt.title(\" OldBod Mean Electricity usage (kWh) 2018\", size=14)\n"
   ]
  },
  {
   "cell_type": "code",
   "execution_count": null,
   "metadata": {},
   "outputs": [],
   "source": []
  },
  {
   "cell_type": "code",
   "execution_count": null,
   "metadata": {},
   "outputs": [],
   "source": []
  }
 ],
 "metadata": {
  "kernelspec": {
   "display_name": "Python 3",
   "language": "python",
   "name": "python3"
  },
  "language_info": {
   "codemirror_mode": {
    "name": "ipython",
    "version": 3
   },
   "file_extension": ".py",
   "mimetype": "text/x-python",
   "name": "python",
   "nbconvert_exporter": "python",
   "pygments_lexer": "ipython3",
   "version": "3.8.5"
  }
 },
 "nbformat": 4,
 "nbformat_minor": 4
}
